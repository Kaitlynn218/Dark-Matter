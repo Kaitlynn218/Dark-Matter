{
  "nbformat": 4,
  "nbformat_minor": 0,
  "metadata": {
    "colab": {
      "provenance": [],
      "authorship_tag": "ABX9TyOCnemYiW5W5AHh18Xt0+5m",
      "include_colab_link": true
    },
    "kernelspec": {
      "name": "python3",
      "display_name": "Python 3"
    },
    "language_info": {
      "name": "python"
    }
  },
  "cells": [
    {
      "cell_type": "markdown",
      "metadata": {
        "id": "view-in-github",
        "colab_type": "text"
      },
      "source": [
        "<a href=\"https://colab.research.google.com/github/Kaitlynn218/Dark-Matter/blob/main/orbital_velocity.ipynb\" target=\"_parent\"><img src=\"https://colab.research.google.com/assets/colab-badge.svg\" alt=\"Open In Colab\"/></a>"
      ]
    },
    {
      "cell_type": "markdown",
      "source": [
        "This line of code imports a mathematical library to make it easier to do mathematical functions"
      ],
      "metadata": {
        "id": "4Pf6FiZD1LZV"
      }
    },
    {
      "cell_type": "code",
      "execution_count": null,
      "metadata": {
        "id": "AKIZIB3mXRXB"
      },
      "outputs": [],
      "source": [
        "import numpy as np"
      ]
    },
    {
      "cell_type": "markdown",
      "source": [
        "These lines of code imports librarys of physical constants and units to use in coding for astronomy"
      ],
      "metadata": {
        "id": "CCdz93xs1Vqt"
      }
    },
    {
      "cell_type": "code",
      "source": [
        "import astropy.units as u\n",
        "import astropy.constants as ac"
      ],
      "metadata": {
        "id": "Ps6m-K4mXbmf"
      },
      "execution_count": null,
      "outputs": []
    },
    {
      "cell_type": "markdown",
      "source": [
        "This is how we input a latex equation; This line of code imports the equation for orbital velocity"
      ],
      "metadata": {
        "id": "WRWRdZZtUQew"
      }
    },
    {
      "cell_type": "markdown",
      "source": [
        "$v_{orbital} = \\sqrt{\\frac{GM_\\odot}{r}}$"
      ],
      "metadata": {
        "id": "ICt2XRFeG-_w"
      }
    },
    {
      "cell_type": "markdown",
      "source": [
        "This line of code inputs the universal gravitational constant"
      ],
      "metadata": {
        "id": "lLqv7_4I2C4h"
      }
    },
    {
      "cell_type": "code",
      "source": [
        "ac.G.si"
      ],
      "metadata": {
        "colab": {
          "base_uri": "https://localhost:8080/",
          "height": 42
        },
        "id": "BEh_BE76UU7f",
        "outputId": "724a5965-3607-435b-fb40-94ba226726fa"
      },
      "execution_count": null,
      "outputs": [
        {
          "output_type": "execute_result",
          "data": {
            "text/plain": [
              "<<class 'astropy.constants.codata2018.CODATA2018'> name='Gravitational constant' value=6.6743e-11 uncertainty=1.5e-15 unit='m3 / (kg s2)' reference='CODATA 2018'>"
            ],
            "text/latex": "$6.6743 \\times 10^{-11} \\; \\mathrm{\\frac{m^{3}}{kg\\,s^{2}}}$"
          },
          "metadata": {},
          "execution_count": 29
        }
      ]
    },
    {
      "cell_type": "markdown",
      "source": [
        "This line of code allows us to put the oribital velocity equation into code"
      ],
      "metadata": {
        "id": "rZ4XmC-c3LRb"
      }
    },
    {
      "cell_type": "code",
      "source": [
        "v_orbital = np.sqrt(ac.G * u.solMass / u.au)"
      ],
      "metadata": {
        "id": "-lY4Md9aYZRu"
      },
      "execution_count": null,
      "outputs": []
    },
    {
      "cell_type": "markdown",
      "source": [
        "This line of code gives us the orbital velocity of the earth around the sun with different units"
      ],
      "metadata": {
        "id": "WOwVF0oa3jAZ"
      }
    },
    {
      "cell_type": "code",
      "source": [
        "print(v_orbital.si, v_orbital.to(u.km / u.s), v_orbital.to(ac.c))"
      ],
      "metadata": {
        "colab": {
          "base_uri": "https://localhost:8080/"
        },
        "id": "3H4Kj7xqZGWA",
        "outputId": "e92d292a-8cf5-4d78-e8dd-036e41fa12d4"
      },
      "execution_count": null,
      "outputs": [
        {
          "output_type": "stream",
          "name": "stdout",
          "text": [
            "29784.691829676933 m / s 29.784691829676934 km / s 9.935103780921979e-05 2.99792e+08 m / s\n"
          ]
        }
      ]
    },
    {
      "cell_type": "markdown",
      "source": [
        "This line of code inputs the eqution for the orbital velocity of a satellite around the earth in an easier function to use"
      ],
      "metadata": {
        "id": "qW_M7E_73pvY"
      }
    },
    {
      "cell_type": "code",
      "source": [
        "v_satellite = np.sqrt(ac.G * u.earthMass / u.earthRad)"
      ],
      "metadata": {
        "id": "VQ98RKvyaMFv"
      },
      "execution_count": null,
      "outputs": []
    },
    {
      "cell_type": "markdown",
      "source": [
        "This line of code calculates the orbital velocity of a satellite in the units of km/s"
      ],
      "metadata": {
        "id": "dwPjInyr34kA"
      }
    },
    {
      "cell_type": "code",
      "source": [
        "print(v_satellite.to(u.km / u.s))"
      ],
      "metadata": {
        "colab": {
          "base_uri": "https://localhost:8080/"
        },
        "id": "oLTO05AZbhid",
        "outputId": "6b8a0902-8958-491f-95c1-5c921ef649eb"
      },
      "execution_count": null,
      "outputs": [
        {
          "output_type": "stream",
          "name": "stdout",
          "text": [
            "7.905388234385281 km / s\n"
          ]
        }
      ]
    },
    {
      "cell_type": "markdown",
      "source": [
        "Rearrange the equation above and solve for the radius of a solar-mass black hole"
      ],
      "metadata": {
        "id": "oN2RZ9b9c76J"
      }
    },
    {
      "cell_type": "markdown",
      "source": [
        "$r = \\frac{GM_\\odot}{c^2}$"
      ],
      "metadata": {
        "id": "8zse74VcHaXT"
      }
    },
    {
      "cell_type": "markdown",
      "source": [
        "This line of code inputs the equation for the Schwarzschild radius of a solar-mass black hole into an easier function to use and then calculates that value in units of km"
      ],
      "metadata": {
        "id": "u-s7odhz4EbJ"
      }
    },
    {
      "cell_type": "code",
      "source": [
        "r_schwachild = ac.G * u.solMass / ac.c**2\n",
        "print(r_schwachild.to(u.km))"
      ],
      "metadata": {
        "id": "q6XjEzQNbpRd",
        "colab": {
          "base_uri": "https://localhost:8080/"
        },
        "outputId": "f15e0db2-02c0-4fe9-d32a-9514c0ef66b4"
      },
      "execution_count": null,
      "outputs": [
        {
          "output_type": "stream",
          "name": "stdout",
          "text": [
            "1.476625038050125 km\n"
          ]
        }
      ]
    },
    {
      "cell_type": "markdown",
      "source": [
        "This is different from the correct answer because Schwarzschild radius is about escape velocity rather than orbital velocity"
      ],
      "metadata": {
        "id": "PWDXWsLmHu9P"
      }
    }
  ]
}